{
 "cells": [
  {
   "cell_type": "code",
   "execution_count": 1,
   "metadata": {},
   "outputs": [],
   "source": [
    "import numpy as np\n",
    "import pandas as pd\n",
    "import matplotlib.pyplot as plt\n",
    "\n",
    "%matplotlib inline\n",
    "\n",
    "np.random.seed(0)"
   ]
  },
  {
   "cell_type": "code",
   "execution_count": 2,
   "metadata": {},
   "outputs": [
    {
     "data": {
      "text/html": [
       "<div>\n",
       "<style scoped>\n",
       "    .dataframe tbody tr th:only-of-type {\n",
       "        vertical-align: middle;\n",
       "    }\n",
       "\n",
       "    .dataframe tbody tr th {\n",
       "        vertical-align: top;\n",
       "    }\n",
       "\n",
       "    .dataframe thead th {\n",
       "        text-align: right;\n",
       "    }\n",
       "</style>\n",
       "<table border=\"1\" class=\"dataframe\">\n",
       "  <thead>\n",
       "    <tr style=\"text-align: right;\">\n",
       "      <th></th>\n",
       "      <th>Pregnancies</th>\n",
       "      <th>Glucose</th>\n",
       "      <th>BloodPressure</th>\n",
       "      <th>SkinThickness</th>\n",
       "      <th>Insulin</th>\n",
       "      <th>BMI</th>\n",
       "      <th>DiabetesPedigreeFunction</th>\n",
       "      <th>Age</th>\n",
       "      <th>Outcome</th>\n",
       "    </tr>\n",
       "  </thead>\n",
       "  <tbody>\n",
       "    <tr>\n",
       "      <th>0</th>\n",
       "      <td>6</td>\n",
       "      <td>148</td>\n",
       "      <td>72</td>\n",
       "      <td>35</td>\n",
       "      <td>0</td>\n",
       "      <td>33.6</td>\n",
       "      <td>0.627</td>\n",
       "      <td>50</td>\n",
       "      <td>1</td>\n",
       "    </tr>\n",
       "    <tr>\n",
       "      <th>1</th>\n",
       "      <td>1</td>\n",
       "      <td>85</td>\n",
       "      <td>66</td>\n",
       "      <td>29</td>\n",
       "      <td>0</td>\n",
       "      <td>26.6</td>\n",
       "      <td>0.351</td>\n",
       "      <td>31</td>\n",
       "      <td>0</td>\n",
       "    </tr>\n",
       "    <tr>\n",
       "      <th>2</th>\n",
       "      <td>8</td>\n",
       "      <td>183</td>\n",
       "      <td>64</td>\n",
       "      <td>0</td>\n",
       "      <td>0</td>\n",
       "      <td>23.3</td>\n",
       "      <td>0.672</td>\n",
       "      <td>32</td>\n",
       "      <td>1</td>\n",
       "    </tr>\n",
       "    <tr>\n",
       "      <th>3</th>\n",
       "      <td>1</td>\n",
       "      <td>89</td>\n",
       "      <td>66</td>\n",
       "      <td>23</td>\n",
       "      <td>94</td>\n",
       "      <td>28.1</td>\n",
       "      <td>0.167</td>\n",
       "      <td>21</td>\n",
       "      <td>0</td>\n",
       "    </tr>\n",
       "    <tr>\n",
       "      <th>4</th>\n",
       "      <td>0</td>\n",
       "      <td>137</td>\n",
       "      <td>40</td>\n",
       "      <td>35</td>\n",
       "      <td>168</td>\n",
       "      <td>43.1</td>\n",
       "      <td>2.288</td>\n",
       "      <td>33</td>\n",
       "      <td>1</td>\n",
       "    </tr>\n",
       "  </tbody>\n",
       "</table>\n",
       "</div>"
      ],
      "text/plain": [
       "   Pregnancies  Glucose  BloodPressure  SkinThickness  Insulin   BMI  \\\n",
       "0            6      148             72             35        0  33.6   \n",
       "1            1       85             66             29        0  26.6   \n",
       "2            8      183             64              0        0  23.3   \n",
       "3            1       89             66             23       94  28.1   \n",
       "4            0      137             40             35      168  43.1   \n",
       "\n",
       "   DiabetesPedigreeFunction  Age  Outcome  \n",
       "0                     0.627   50        1  \n",
       "1                     0.351   31        0  \n",
       "2                     0.672   32        1  \n",
       "3                     0.167   21        0  \n",
       "4                     2.288   33        1  "
      ]
     },
     "execution_count": 2,
     "metadata": {},
     "output_type": "execute_result"
    }
   ],
   "source": [
    "# Import Dataset\n",
    "df = pd.read_csv(\"Datasets/diabetes2.csv\")\n",
    "df.head()"
   ]
  },
  {
   "cell_type": "code",
   "execution_count": 3,
   "metadata": {},
   "outputs": [],
   "source": [
    "# Converting data to suitable structure\n",
    "X = np.array(df.iloc[:,:-1])\n",
    "Y = np.array(df.iloc[:, -1]).reshape((-1, 1))\n",
    "\n",
    "# Scaling X\n",
    "X = (X - np.mean(X, axis=0))/np.std(X, axis=0)\n",
    "\n",
    "# Generating random indices to split the data\n",
    "m, n = X.shape\n",
    "indices = np.random.permutation(m)\n",
    "train_size = int(m * 0.8)\n",
    "\n",
    "# Spliting the data into Train and Test sets\n",
    "X_train, X_test = X[indices[:train_size], :], X[indices[train_size:], :]\n",
    "Y_train, Y_test = Y[indices[:train_size], :], Y[indices[train_size:], :]"
   ]
  },
  {
   "cell_type": "code",
   "execution_count": 4,
   "metadata": {},
   "outputs": [],
   "source": [
    "# Necessary Functions\n",
    "# Sigmoid Function\n",
    "def sigmoid(z):\n",
    "    return 1/(1 + np.exp(-z))\n",
    "\n",
    "# Prediction of Y for given X and theta\n",
    "def predict(X, theta):\n",
    "    X = np.append(np.ones((X.shape[0], 1)), X, axis=1)\n",
    "    z = np.dot(X, theta)\n",
    "    return (sigmoid(z) > 0.5) * 1\n",
    "\n",
    "# Compute Cost Function and Gradient\n",
    "def costFunction(X, Y, theta):\n",
    "    m, n = X.shape\n",
    "    h = sigmoid(np.dot(X, theta))\n",
    "    J = -(np.dot(Y.T, np.log(h)) + np.dot((1-Y.T), np.log(1-h)))/m\n",
    "    grad = np.dot(X.T, (h - Y))/m\n",
    "    return J.flatten()[0], grad\n",
    "\n",
    "# Gradient Descent Algorithm\n",
    "def gradientDecsent(X, Y, theta, alpha, num_iters):\n",
    "    m, n = X.shape\n",
    "    X = np.append(np.ones((m, 1)), X, axis=1)\n",
    "    cost_history = []\n",
    "    \n",
    "    for i in range(num_iters):\n",
    "        cost, gradient = costFunction(X, Y, theta)\n",
    "        theta = theta - (alpha/m) * gradient\n",
    "        cost_history.append(cost)\n",
    "        \n",
    "    return theta, cost_history\n",
    "\n",
    "# Computing Accuracy of model\n",
    "def computeAccuracy(X, Y, theta):\n",
    "    m, n = X.shape\n",
    "    return np.sum(predict(X, theta) == Y) / m   "
   ]
  },
  {
   "cell_type": "code",
   "execution_count": 5,
   "metadata": {},
   "outputs": [],
   "source": [
    "# Initializing values of theta\n",
    "theta = np.zeros((n+1, 1))\n",
    "alpha = 1\n",
    "num_iter = 100000\n",
    "\n",
    "# Applying Gradient Descent\n",
    "theta, cost_history = gradientDecsent(X_train, Y_train, theta, alpha, num_iter)"
   ]
  },
  {
   "cell_type": "code",
   "execution_count": 6,
   "metadata": {},
   "outputs": [
    {
     "name": "stdout",
     "output_type": "stream",
     "text": [
      "Training Accuracy:\t78.01%\n",
      "Test Accuracy:\t\t77.92%\n"
     ]
    }
   ],
   "source": [
    "# Training and Test Accuracy\n",
    "train_score = computeAccuracy(X_train, Y_train, theta)\n",
    "test_score = computeAccuracy(X_test, Y_test, theta)\n",
    "print(f\"Training Accuracy:\\t{train_score*100:.2F}%\\n\" \\\n",
    "      f\"Test Accuracy:\\t\\t{test_score*100:.2F}%\")"
   ]
  },
  {
   "cell_type": "code",
   "execution_count": 7,
   "metadata": {},
   "outputs": [
    {
     "data": {
      "image/png": "[encoded data removed]",
      "text/plain": [
       "<Figure size 432x288 with 1 Axes>"
      ]
     },
     "metadata": {
      "needs_background": "light"
     },
     "output_type": "display_data"
    }
   ],
   "source": [
    "plt.plot(cost_history)\n",
    "plt.ylabel('Cost')\n",
    "plt.xlabel('Iteration')\n",
    "plt.title('Cost in each step')\n",
    "plt.show()"
   ]
  }
 ],
 "metadata": {
  "kernelspec": {
   "display_name": "Python 3",
   "language": "python",
   "name": "python3"
  },
  "language_info": {
   "codemirror_mode": {
    "name": "ipython",
    "version": 3
   },
   "file_extension": ".py",
   "mimetype": "text/x-python",
   "name": "python",
   "nbconvert_exporter": "python",
   "pygments_lexer": "ipython3",
   "version": "3.9.0"
  }
 },
 "nbformat": 4,
 "nbformat_minor": 4
}
